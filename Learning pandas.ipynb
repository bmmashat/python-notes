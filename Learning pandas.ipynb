{
 "cells": [
  {
   "cell_type": "markdown",
   "metadata": {},
   "source": [
    "# Resources"
   ]
  },
  {
   "cell_type": "markdown",
   "metadata": {},
   "source": [
    "Tutorials Point - Python Pandas Tutorial: <br>\n",
    "https://www.tutorialspoint.com/python_pandas/index.htm\n",
    "\n",
    "How To Filter Pandas Dataframe By Values of Column? <br>\n",
    "https://cmdlinetips.com/2018/02/how-to-subset-pandas-dataframe-based-on-values-of-a-column/\n",
    "\n",
    "Pandas Filter\n",
    "\n",
    "\n",
    "Array Programming With NumPy\n",
    "https://realpython.com/numpy-array-programming/\n",
    "\n",
    "Python Data Science Handbook\n",
    "https://jakevdp.github.io/PythonDataScienceHandbook/index.html"
   ]
  },
  {
   "cell_type": "markdown",
   "metadata": {
    "heading_collapsed": true
   },
   "source": [
    "# Quick Examples"
   ]
  },
  {
   "cell_type": "markdown",
   "metadata": {
    "hidden": true
   },
   "source": [
    "## Convert only int in a list"
   ]
  },
  {
   "cell_type": "code",
   "execution_count": 12,
   "metadata": {
    "hidden": true
   },
   "outputs": [],
   "source": [
    "def maybe_int(s):\n",
    "    try:\n",
    "        return int(s)\n",
    "    except (ValueError, TypeError):\n",
    "        return s\n",
    "    \n",
    "orig_list = ['data', '18', '17', '0']\n",
    "new_list = [maybe_int(v) for v in orig_list]"
   ]
  },
  {
   "cell_type": "code",
   "execution_count": 13,
   "metadata": {
    "hidden": true
   },
   "outputs": [
    {
     "data": {
      "text/plain": [
       "['data', '18', '17', '0']"
      ]
     },
     "execution_count": 13,
     "metadata": {},
     "output_type": "execute_result"
    }
   ],
   "source": [
    "orig_list"
   ]
  },
  {
   "cell_type": "code",
   "execution_count": 15,
   "metadata": {
    "hidden": true
   },
   "outputs": [
    {
     "data": {
      "text/plain": [
       "['data', 18, 17, 0]"
      ]
     },
     "execution_count": 15,
     "metadata": {},
     "output_type": "execute_result"
    }
   ],
   "source": [
    "new_list"
   ]
  },
  {
   "cell_type": "markdown",
   "metadata": {},
   "source": [
    "# Numpy (arrays examples)"
   ]
  },
  {
   "cell_type": "markdown",
   "metadata": {},
   "source": [
    "## from list to asarray"
   ]
  },
  {
   "cell_type": "code",
   "execution_count": 17,
   "metadata": {},
   "outputs": [],
   "source": [
    "import numpy as np \n",
    "\n",
    "jnk_list = [[0, 0, 0, 0, 1, 0, 1, 0, 0, 0], \n",
    "            [0, 0, 0, 0, 0, 0, 0, 0, 0, 0]]\n",
    "\n",
    "jnk_array = np.asarray(jnk_list)"
   ]
  },
  {
   "cell_type": "code",
   "execution_count": 23,
   "metadata": {},
   "outputs": [
    {
     "data": {
      "text/plain": [
       "array([0, 0, 0, 0, 1, 0, 1, 0, 0, 0])"
      ]
     },
     "execution_count": 23,
     "metadata": {},
     "output_type": "execute_result"
    }
   ],
   "source": [
    "jnk_array.sum(axis=0)"
   ]
  },
  {
   "cell_type": "code",
   "execution_count": 25,
   "metadata": {},
   "outputs": [
    {
     "data": {
      "text/plain": [
       "array([2, 0])"
      ]
     },
     "execution_count": 25,
     "metadata": {},
     "output_type": "execute_result"
    }
   ],
   "source": [
    "jnk_array.sum(axis=1)"
   ]
  },
  {
   "cell_type": "code",
   "execution_count": 27,
   "metadata": {},
   "outputs": [
    {
     "data": {
      "text/plain": [
       "array([0. , 0. , 0. , 0. , 0.5, 0. , 0.5, 0. , 0. , 0. ])"
      ]
     },
     "execution_count": 27,
     "metadata": {},
     "output_type": "execute_result"
    }
   ],
   "source": [
    "jnk_array.mean(axis=0)"
   ]
  },
  {
   "cell_type": "markdown",
   "metadata": {},
   "source": [
    "## Search a specific element in array"
   ]
  },
  {
   "cell_type": "code",
   "execution_count": 29,
   "metadata": {},
   "outputs": [],
   "source": [
    "listx = np.asarray([[0,0,0],[0,0,0],[0,1,1],[0,0,0]])"
   ]
  },
  {
   "cell_type": "code",
   "execution_count": 43,
   "metadata": {},
   "outputs": [],
   "source": [
    "zeros = np.where(listx[:,1] == 0)"
   ]
  },
  {
   "cell_type": "code",
   "execution_count": 44,
   "metadata": {},
   "outputs": [
    {
     "data": {
      "text/plain": [
       "array([[0, 0, 0],\n",
       "       [0, 0, 0],\n",
       "       [0, 1, 1],\n",
       "       [0, 0, 0]])"
      ]
     },
     "execution_count": 44,
     "metadata": {},
     "output_type": "execute_result"
    }
   ],
   "source": [
    "listx"
   ]
  },
  {
   "cell_type": "code",
   "execution_count": 45,
   "metadata": {},
   "outputs": [
    {
     "data": {
      "text/plain": [
       "(array([0, 1, 3]),)"
      ]
     },
     "execution_count": 45,
     "metadata": {},
     "output_type": "execute_result"
    }
   ],
   "source": [
    "zeros"
   ]
  },
  {
   "cell_type": "code",
   "execution_count": 46,
   "metadata": {},
   "outputs": [
    {
     "data": {
      "text/plain": [
       "array([[0, 0, 0],\n",
       "       [0, 0, 0],\n",
       "       [0, 0, 0]])"
      ]
     },
     "execution_count": 46,
     "metadata": {},
     "output_type": "execute_result"
    }
   ],
   "source": [
    "listx[zeros]"
   ]
  },
  {
   "cell_type": "markdown",
   "metadata": {},
   "source": [
    "## Search w/ multi conditions in array"
   ]
  },
  {
   "cell_type": "code",
   "execution_count": 47,
   "metadata": {},
   "outputs": [],
   "source": [
    "traces = [['x1',11026,0,0,0,0],\n",
    "          ['x0',11087,0,0,0,1],\n",
    "          ['x0',11088,0,0,1,3],\n",
    "          ['x0',11088,0,0,0,3],\n",
    "          ['x0',11088,0,1,0,1]]"
   ]
  },
  {
   "cell_type": "code",
   "execution_count": 48,
   "metadata": {},
   "outputs": [],
   "source": [
    "traces = np.array(traces)"
   ]
  },
  {
   "cell_type": "code",
   "execution_count": 50,
   "metadata": {},
   "outputs": [
    {
     "data": {
      "text/plain": [
       "array([[False, False, False, False],\n",
       "       [ True, False, False,  True],\n",
       "       [ True,  True, False, False],\n",
       "       [ True,  True, False, False],\n",
       "       [ True,  True,  True,  True]])"
      ]
     },
     "execution_count": 50,
     "metadata": {},
     "output_type": "execute_result"
    }
   ],
   "source": [
    "traces[:,[0,1,3,5]] == ['x0', 11088, 1, 1]"
   ]
  },
  {
   "cell_type": "code",
   "execution_count": 52,
   "metadata": {},
   "outputs": [],
   "source": [
    "indexes = np.where(np.all(traces[:,[0,1,3,5]] == ['x0', 11088, 1, 1], axis=1))"
   ]
  },
  {
   "cell_type": "code",
   "execution_count": 53,
   "metadata": {},
   "outputs": [
    {
     "data": {
      "text/plain": [
       "(array([4]),)"
      ]
     },
     "execution_count": 53,
     "metadata": {},
     "output_type": "execute_result"
    }
   ],
   "source": [
    "indexes"
   ]
  },
  {
   "cell_type": "code",
   "execution_count": 54,
   "metadata": {},
   "outputs": [
    {
     "data": {
      "text/plain": [
       "array([['x0', '11088', '0', '1', '0', '1']], dtype='<U5')"
      ]
     },
     "execution_count": 54,
     "metadata": {},
     "output_type": "execute_result"
    }
   ],
   "source": [
    "traces[indexes]"
   ]
  },
  {
   "cell_type": "markdown",
   "metadata": {},
   "source": [
    "## Search using where()"
   ]
  },
  {
   "cell_type": "code",
   "execution_count": 70,
   "metadata": {},
   "outputs": [],
   "source": [
    "t = np.array([[1,2,3,'foo'],\n",
    " [2,3,4,'bar'],\n",
    " [5,6,7,'hello'],\n",
    " [8,9,1,'bar']],dtype=object) # to convert it to int"
   ]
  },
  {
   "cell_type": "code",
   "execution_count": 71,
   "metadata": {},
   "outputs": [],
   "source": [
    "rows, cols = np.where(t==7)"
   ]
  },
  {
   "cell_type": "code",
   "execution_count": 72,
   "metadata": {},
   "outputs": [
    {
     "data": {
      "text/plain": [
       "array([2])"
      ]
     },
     "execution_count": 72,
     "metadata": {},
     "output_type": "execute_result"
    }
   ],
   "source": [
    "rows"
   ]
  },
  {
   "cell_type": "code",
   "execution_count": 73,
   "metadata": {},
   "outputs": [
    {
     "data": {
      "text/plain": [
       "array([[5, 6, 7, 'hello']], dtype=object)"
      ]
     },
     "execution_count": 73,
     "metadata": {},
     "output_type": "execute_result"
    }
   ],
   "source": [
    "t[rows]"
   ]
  },
  {
   "cell_type": "markdown",
   "metadata": {},
   "source": [
    "# Useful Functions"
   ]
  },
  {
   "cell_type": "code",
   "execution_count": 21,
   "metadata": {},
   "outputs": [],
   "source": [
    "# flatten list\n",
    "\n",
    "import collections\n",
    "\n",
    "def flatten(l):\n",
    "    for el in l:\n",
    "        if isinstance(el, collections.Iterable) and len(el) == 1:\n",
    "            yield el[0]\n",
    "        if isinstance(el, collections.Iterable) and not isinstance(el, (str, bytes)):\n",
    "            yield from flatten(el)\n",
    "        else:\n",
    "            yield el"
   ]
  },
  {
   "cell_type": "markdown",
   "metadata": {},
   "source": [
    "# Break"
   ]
  },
  {
   "cell_type": "markdown",
   "metadata": {},
   "source": [
    "# Panda Iterations"
   ]
  },
  {
   "cell_type": "code",
   "execution_count": 7,
   "metadata": {},
   "outputs": [],
   "source": [
    "import pandas as pd"
   ]
  },
  {
   "cell_type": "code",
   "execution_count": 1,
   "metadata": {
    "code_folding": [
     0
    ]
   },
   "outputs": [],
   "source": [
    "mem_data = [{'name': \"a dancing mem\",\n",
    "             'Activity': [\"dancing\", \"practicing\"],\n",
    "             'Mood': \"happy\",\n",
    "             'Person': \"Tarah\",\n",
    "             'Place': \"spotlight studio\",\n",
    "             'Thing': \"shoes\",\n",
    "             'Time': \"night\"},\n",
    "            {'name': \"a studying mem\",\n",
    "             'Activity': [\"studying\", \"working\", \"talking\"],\n",
    "             'Mood': \"sad\",\n",
    "             'Person': \"Joud\",\n",
    "             'Place': \"Davis\",\n",
    "             'Thing': \"books\",\n",
    "             'Time': \"noon\"},\n",
    "            {'name': \"a running mem\",\n",
    "             'Activity': [\"running\"],\n",
    "             'Mood': \"excited\",\n",
    "             'Person': \"me\",\n",
    "             'Place': \"trail\",\n",
    "             'Thing': \"basketball\",\n",
    "             'Time': \"night\"},\n",
    "           ]"
   ]
  },
  {
   "cell_type": "code",
   "execution_count": 9,
   "metadata": {},
   "outputs": [],
   "source": [
    "df = pd.DataFrame(mem_data) "
   ]
  },
  {
   "cell_type": "code",
   "execution_count": 12,
   "metadata": {},
   "outputs": [
    {
     "data": {
      "text/html": [
       "<div>\n",
       "<style scoped>\n",
       "    .dataframe tbody tr th:only-of-type {\n",
       "        vertical-align: middle;\n",
       "    }\n",
       "\n",
       "    .dataframe tbody tr th {\n",
       "        vertical-align: top;\n",
       "    }\n",
       "\n",
       "    .dataframe thead th {\n",
       "        text-align: right;\n",
       "    }\n",
       "</style>\n",
       "<table border=\"1\" class=\"dataframe\">\n",
       "  <thead>\n",
       "    <tr style=\"text-align: right;\">\n",
       "      <th></th>\n",
       "      <th>Activity</th>\n",
       "      <th>Mood</th>\n",
       "      <th>Person</th>\n",
       "      <th>Place</th>\n",
       "      <th>Thing</th>\n",
       "      <th>Time</th>\n",
       "      <th>name</th>\n",
       "    </tr>\n",
       "  </thead>\n",
       "  <tbody>\n",
       "    <tr>\n",
       "      <th>0</th>\n",
       "      <td>[dancing, practicing]</td>\n",
       "      <td>happy</td>\n",
       "      <td>Tarah</td>\n",
       "      <td>spotlight studio</td>\n",
       "      <td>shoes</td>\n",
       "      <td>night</td>\n",
       "      <td>a dancing mem</td>\n",
       "    </tr>\n",
       "    <tr>\n",
       "      <th>1</th>\n",
       "      <td>[studying, working, talking]</td>\n",
       "      <td>sad</td>\n",
       "      <td>Joud</td>\n",
       "      <td>Davis</td>\n",
       "      <td>books</td>\n",
       "      <td>noon</td>\n",
       "      <td>a studying mem</td>\n",
       "    </tr>\n",
       "    <tr>\n",
       "      <th>2</th>\n",
       "      <td>[running]</td>\n",
       "      <td>excited</td>\n",
       "      <td>me</td>\n",
       "      <td>trail</td>\n",
       "      <td>basketball</td>\n",
       "      <td>night</td>\n",
       "      <td>a running mem</td>\n",
       "    </tr>\n",
       "  </tbody>\n",
       "</table>\n",
       "</div>"
      ],
      "text/plain": [
       "                       Activity     Mood Person             Place       Thing  \\\n",
       "0         [dancing, practicing]    happy  Tarah  spotlight studio       shoes   \n",
       "1  [studying, working, talking]      sad   Joud             Davis       books   \n",
       "2                     [running]  excited     me             trail  basketball   \n",
       "\n",
       "    Time            name  \n",
       "0  night   a dancing mem  \n",
       "1   noon  a studying mem  \n",
       "2  night   a running mem  "
      ]
     },
     "execution_count": 12,
     "metadata": {},
     "output_type": "execute_result"
    }
   ],
   "source": [
    "df"
   ]
  },
  {
   "cell_type": "code",
   "execution_count": 15,
   "metadata": {},
   "outputs": [
    {
     "name": "stdout",
     "output_type": "stream",
     "text": [
      "a dancing mem\n",
      "a studying mem\n",
      "a running mem\n"
     ]
    }
   ],
   "source": [
    "# print rows\n",
    "\n",
    "for index, row in df.iterrows():\n",
    "    print(row['name'])\n",
    "    "
   ]
  },
  {
   "cell_type": "code",
   "execution_count": 16,
   "metadata": {},
   "outputs": [
    {
     "name": "stdout",
     "output_type": "stream",
     "text": [
      "a dancing mem : dancing\n",
      "a dancing mem : practicing\n",
      "a studying mem : studying\n",
      "a studying mem : working\n",
      "a studying mem : talking\n",
      "a running mem : running\n"
     ]
    }
   ],
   "source": [
    "# iterate through each row in \"name\" and print the list of activites\n",
    "\n",
    "for alist, name in zip(df.Activity, df.name):\n",
    "    for item in alist:\n",
    "        print(name, ':', item)"
   ]
  },
  {
   "cell_type": "code",
   "execution_count": 19,
   "metadata": {},
   "outputs": [
    {
     "name": "stdout",
     "output_type": "stream",
     "text": [
      "['dancing', 'practicing'] a dancing mem\n",
      "['studying', 'working', 'talking'] a dancing mem\n",
      "['running'] a dancing mem\n",
      "['dancing', 'practicing'] a studying mem\n",
      "['studying', 'working', 'talking'] a studying mem\n",
      "['running'] a studying mem\n",
      "['dancing', 'practicing'] a running mem\n",
      "['studying', 'working', 'talking'] a running mem\n",
      "['running'] a running mem\n",
      "\n",
      "\n",
      "a dancing mem + dancing\n",
      "a dancing mem + practicing\n",
      "a studying mem + dancing\n",
      "a studying mem + practicing\n",
      "a running mem + dancing\n",
      "a running mem + practicing\n",
      "a dancing mem + studying\n",
      "a dancing mem + working\n",
      "a dancing mem + talking\n",
      "a studying mem + studying\n",
      "a studying mem + working\n",
      "a studying mem + talking\n",
      "a running mem + studying\n",
      "a running mem + working\n",
      "a running mem + talking\n",
      "a dancing mem + running\n",
      "a studying mem + running\n",
      "a running mem + running\n"
     ]
    }
   ],
   "source": [
    "# bad iterations lol \n",
    "\n",
    "for i,row in df.iterrows():\n",
    "    for activity_row in df.Activity:\n",
    "        print(activity_row, row[\"name\"])\n",
    "        \n",
    "print(\"\\n\")\n",
    "\n",
    "for activity_row in df.Activity:\n",
    "    for name in df.name:\n",
    "        for item in activity_row:\n",
    "            print(name, \"+\", item)"
   ]
  },
  {
   "cell_type": "code",
   "execution_count": 25,
   "metadata": {},
   "outputs": [
    {
     "name": "stdout",
     "output_type": "stream",
     "text": [
      "dancing a dancing mem\n",
      "practicing a studying mem\n",
      "studying a running mem\n"
     ]
    }
   ],
   "source": [
    "# idk what but oh well \n",
    "\n",
    "activities_list = df.Activity.to_list()\n",
    "activities_list = list(flatten(activities_list))\n",
    "\n",
    "name_list = df.name.to_list()\n",
    "\n",
    "for activity,mem_name in zip(activities_list, name_list):\n",
    "    print(activity,mem_name)"
   ]
  },
  {
   "cell_type": "code",
   "execution_count": 28,
   "metadata": {},
   "outputs": [
    {
     "data": {
      "text/plain": [
       "['dancing', 'practicing', 'studying', 'working', 'talking', 'running']"
      ]
     },
     "execution_count": 28,
     "metadata": {},
     "output_type": "execute_result"
    }
   ],
   "source": [
    "# doesn't work \n",
    "\n",
    "l = df.Activity.to_list()\n",
    "\n",
    "flat_list = [item for sublist in l for item in sublist]\n",
    "\n",
    "flatten = lambda l: [item for sublist in l for item in sublist]\n",
    "\n",
    "flat_list = []\n",
    "for sublist in l:\n",
    "    for item in sublist:\n",
    "        flat_list.append(item)\n",
    "        \n",
    "flat_list"
   ]
  }
 ],
 "metadata": {
  "kernelspec": {
   "display_name": "Python 3",
   "language": "python",
   "name": "python3"
  },
  "language_info": {
   "codemirror_mode": {
    "name": "ipython",
    "version": 3
   },
   "file_extension": ".py",
   "mimetype": "text/x-python",
   "name": "python",
   "nbconvert_exporter": "python",
   "pygments_lexer": "ipython3",
   "version": "3.6.8"
  },
  "toc": {
   "base_numbering": 1,
   "nav_menu": {},
   "number_sections": true,
   "sideBar": true,
   "skip_h1_title": false,
   "title_cell": "Table of Contents",
   "title_sidebar": "Contents",
   "toc_cell": false,
   "toc_position": {},
   "toc_section_display": true,
   "toc_window_display": false
  },
  "varInspector": {
   "cols": {
    "lenName": 16,
    "lenType": 16,
    "lenVar": 40
   },
   "kernels_config": {
    "python": {
     "delete_cmd_postfix": "",
     "delete_cmd_prefix": "del ",
     "library": "var_list.py",
     "varRefreshCmd": "print(var_dic_list())"
    },
    "r": {
     "delete_cmd_postfix": ") ",
     "delete_cmd_prefix": "rm(",
     "library": "var_list.r",
     "varRefreshCmd": "cat(var_dic_list()) "
    }
   },
   "types_to_exclude": [
    "module",
    "function",
    "builtin_function_or_method",
    "instance",
    "_Feature"
   ],
   "window_display": false
  }
 },
 "nbformat": 4,
 "nbformat_minor": 2
}
