{
 "cells": [
  {
   "cell_type": "markdown",
   "metadata": {},
   "source": [
    "# Hello! \n",
    "#### This file is a collection of python concepts for quick review :) 🎉\n",
    "\n",
    "List of good resources: \n",
    "- python  review (very good!):\n",
    "https://learnxinyminutes.com/docs/python/\n"
   ]
  },
  {
   "cell_type": "markdown",
   "metadata": {
    "heading_collapsed": true
   },
   "source": [
    "### 🕹 printing + input"
   ]
  },
  {
   "cell_type": "code",
   "execution_count": 6,
   "metadata": {
    "hidden": true
   },
   "outputs": [
    {
     "name": "stdout",
     "output_type": "stream",
     "text": [
      "What's your name? Bayan\n",
      "Bayan\n"
     ]
    }
   ],
   "source": [
    "name = input(\"What's your name? \")\n",
    "print(name)"
   ]
  },
  {
   "cell_type": "code",
   "execution_count": 7,
   "metadata": {
    "hidden": true
   },
   "outputs": [
    {
     "name": "stdout",
     "output_type": "stream",
     "text": [
      "Hello Bayan!\n"
     ]
    }
   ],
   "source": [
    "print(\"Hello Bayan!\")"
   ]
  },
  {
   "cell_type": "code",
   "execution_count": 8,
   "metadata": {
    "hidden": true
   },
   "outputs": [
    {
     "name": "stdout",
     "output_type": "stream",
     "text": [
      "Hello Bayan!"
     ]
    }
   ],
   "source": [
    "print(\"Hello Bayan\", end=\"!\") #to not print a newline at the end"
   ]
  },
  {
   "cell_type": "markdown",
   "metadata": {
    "heading_collapsed": true
   },
   "source": [
    "### 🕹 formatting"
   ]
  },
  {
   "cell_type": "code",
   "execution_count": 14,
   "metadata": {
    "hidden": true
   },
   "outputs": [
    {
     "name": "stdout",
     "output_type": "stream",
     "text": [
      "She said her name is Bayan.\n",
      "Mashat said her name is 5 characters long.\n"
     ]
    }
   ],
   "source": [
    "name = \"Bayan\"\n",
    "last = \"Mashat\"\n",
    "\n",
    "sentence_one = f\"She said her name is {name}.\"\n",
    "sentence_two = f\"{last} said her name is {len(name)} characters long.\"\n",
    "\n",
    "print(sentence_one)\n",
    "print(sentence_two)"
   ]
  },
  {
   "cell_type": "markdown",
   "metadata": {
    "heading_collapsed": true
   },
   "source": [
    "### 🕹 compairing:"
   ]
  },
  {
   "cell_type": "markdown",
   "metadata": {
    "hidden": true
   },
   "source": [
    "- use \"is\" instead of \"==\" when comparing objects to None\n",
    "- ==: compares value of both the operands and check for value equality\n",
    "- is: checks whether both the operands refer to the same object or not"
   ]
  },
  {
   "cell_type": "code",
   "execution_count": 15,
   "metadata": {
    "hidden": true
   },
   "outputs": [
    {
     "name": "stdout",
     "output_type": "stream",
     "text": [
      "True\n",
      "False\n",
      "True\n"
     ]
    }
   ],
   "source": [
    "list1 = []\n",
    "list2 = []\n",
    "list3 = list1\n",
    "\n",
    "print(list1 == list2) # > True\n",
    "print(list1 is list2) # > False\n",
    "print(list1 is list3) # > True"
   ]
  },
  {
   "cell_type": "markdown",
   "metadata": {
    "heading_collapsed": true
   },
   "source": [
    "### 🕹 increment & decrements"
   ]
  },
  {
   "cell_type": "code",
   "execution_count": 18,
   "metadata": {
    "hidden": true
   },
   "outputs": [
    {
     "data": {
      "text/plain": [
       "(1, -1, -1)"
      ]
     },
     "execution_count": 18,
     "metadata": {},
     "output_type": "execute_result"
    }
   ],
   "source": [
    "x = 0\n",
    "y = 0\n",
    "z = 0 \n",
    "\n",
    "x += 1  # > 1\n",
    "y -= 1  # > -1 \n",
    "z += -1 # > -1\n",
    "\n",
    "x,y,z"
   ]
  },
  {
   "cell_type": "markdown",
   "metadata": {
    "heading_collapsed": true
   },
   "source": [
    "### 🕹 if-statement expression"
   ]
  },
  {
   "cell_type": "code",
   "execution_count": 21,
   "metadata": {
    "hidden": true
   },
   "outputs": [
    {
     "name": "stdout",
     "output_type": "stream",
     "text": [
      "yahoo\n"
     ]
    }
   ],
   "source": [
    "if 3 > 2:\n",
    "    print(\"yahoo\")\n",
    "else:\n",
    "    print(2)"
   ]
  },
  {
   "cell_type": "code",
   "execution_count": 22,
   "metadata": {
    "hidden": true
   },
   "outputs": [
    {
     "data": {
      "text/plain": [
       "'yahoo'"
      ]
     },
     "execution_count": 22,
     "metadata": {},
     "output_type": "execute_result"
    }
   ],
   "source": [
    "\"yahoo\" if 3 > 2 else 2"
   ]
  },
  {
   "cell_type": "markdown",
   "metadata": {
    "heading_collapsed": true
   },
   "source": [
    "### 🕹 list operations"
   ]
  },
  {
   "cell_type": "markdown",
   "metadata": {
    "heading_collapsed": true,
    "hidden": true
   },
   "source": [
    "#### 🥊 creating, appending, poping, slicing"
   ]
  },
  {
   "cell_type": "code",
   "execution_count": 41,
   "metadata": {
    "hidden": true
   },
   "outputs": [
    {
     "name": "stdout",
     "output_type": "stream",
     "text": [
      "------list printing------\n",
      "[4, 5, 6]\n",
      "[1, 2, 3, 4, 5]\n",
      "\n",
      "------list indexing------\n",
      "1\n",
      "5\n",
      "\n",
      "------list slicing------\n",
      "[2, 3]\n",
      "[3, 4, 5]\n",
      "[1, 2, 3]\n",
      "[1, 3, 5]\n",
      "[5, 4, 3, 2, 1]\n"
     ]
    }
   ],
   "source": [
    "list_x = []\n",
    "list_y = [1,2,3,4,5]\n",
    "\n",
    "list_x.append(4)\n",
    "list_x.append(5)\n",
    "list_x.append(6)\n",
    "list_x.append(6)\n",
    "\n",
    "list_x.pop() # remove the last item in the list \n",
    "\n",
    "print(\"------list printing------\")\n",
    "print(list_x)\n",
    "print(list_y)\n",
    "\n",
    "print(\"\\n------list indexing------\")\n",
    "print(list_y[0]) # firt index\n",
    "print(list_y[-1]) # last index \n",
    "\n",
    "# list[start:end:step]\n",
    "print(\"\\n------list slicing------\")\n",
    "print(list_y[1:3])   # Return from index 1 to 3 \n",
    "print(list_y[2:])    # Return starting from index 2 \n",
    "print(list_y[:3])    # Return from start til index 3\n",
    "print(list_y[::2])   # Return selecting every second entry\n",
    "print(list_y[::-1])  # Return in reverse order"
   ]
  },
  {
   "cell_type": "markdown",
   "metadata": {
    "heading_collapsed": true,
    "hidden": true
   },
   "source": [
    "#### 🥊 copying "
   ]
  },
  {
   "cell_type": "markdown",
   "metadata": {
    "hidden": true
   },
   "source": [
    "- assignment statements don't copy objects, they create bindings between a target & object \n",
    "- \"=\" creates a new variable that shares the reference of the original object \n",
    "- shallow copy: creates a binding to the original object (doesn't recurse)\n",
    "- deep copy: creates a fully independent clone of original object (it recurses)\n",
    "<br> **Things to remember:**\n",
    "- Making a shallow copy of an object won’t clone child objects. Therefore, the copy is not fully independent of the original\n",
    "- A deep copy of an object will recursively clone child objects. The clone is fully independent of the original, but creating a deep copy is slower\n",
    "<br> **Diff btwn shallow & deep:**\n",
    "- Deep copy stores copies of an object's values, whereas shallow copy stories references to the original memory address\n",
    "- Deep copy doesn't reflect changes made to the new/copied object in the original object; whereas, shallow copy does\n",
    "\n",
    "Helpful Resources:\n",
    "- https://realpython.com/copying-python-objects/\n",
    "- https://www.geeksforgeeks.org/copy-python-deep-copy-shallow-copy/\n",
    "- (best one) https://stackabuse.com/deep-vs-shallow-copies-in"
   ]
  },
  {
   "cell_type": "code",
   "execution_count": 48,
   "metadata": {
    "hidden": true
   },
   "outputs": [
    {
     "name": "stdout",
     "output_type": "stream",
     "text": [
      "True\n",
      "True\n",
      "True\n",
      "False\n"
     ]
    }
   ],
   "source": [
    "# make a copy of a list (shallow)\n",
    "list_z = list_y\n",
    "\n",
    "print(list_z == list_y)\n",
    "print(list_z is list_y)\n",
    "\n",
    "# make a deep copy of a list \n",
    "list_d = list_y[:]\n",
    "\n",
    "print(list_d == list_y)\n",
    "print(list_d is list_y)"
   ]
  },
  {
   "cell_type": "code",
   "execution_count": 64,
   "metadata": {
    "hidden": true
   },
   "outputs": [
    {
     "name": "stdout",
     "output_type": "stream",
     "text": [
      "[[1, 2, 3], ['X', 5, 6], [7, 8, 9], ['new sublist']]\n",
      "[[1, 2, 3], ['X', 5, 6], [7, 8, 9]]\n",
      "[[1, 2, 3], [4, 5, 6], [7, 8, 9]]\n"
     ]
    }
   ],
   "source": [
    "# showing diff btwn shallow & deep copies\n",
    "\n",
    "import copy\n",
    "\n",
    "xs = [[1, 2, 3], [4, 5, 6], [7, 8, 9]]\n",
    "ys = list(xs)              # make a shallow copy\n",
    "zs = copy.deepcopy(xs)     # make a deep copy \n",
    "\n",
    "xs.append([\"new sublist\"])\n",
    "xs[1][0] = 'X'\n",
    "\n",
    "print(xs)\n",
    "print(ys)\n",
    "print(zs)"
   ]
  },
  {
   "cell_type": "code",
   "execution_count": 83,
   "metadata": {
    "hidden": true
   },
   "outputs": [
    {
     "name": "stdout",
     "output_type": "stream",
     "text": [
      "4449576392\n",
      "4449665928\n",
      "4449607560\n"
     ]
    }
   ],
   "source": [
    "print(id(xs))\n",
    "print(id(ys))\n",
    "print(id(zs))"
   ]
  },
  {
   "cell_type": "markdown",
   "metadata": {
    "hidden": true
   },
   "source": [
    "#### 🥊 deletion,  insertion, combining"
   ]
  },
  {
   "cell_type": "code",
   "execution_count": 76,
   "metadata": {
    "hidden": true
   },
   "outputs": [
    {
     "data": {
      "text/plain": [
       "[1, 2, 3, 4, 10, 20, 30]"
      ]
     },
     "execution_count": 76,
     "metadata": {},
     "output_type": "execute_result"
    }
   ],
   "source": [
    "# deletion \n",
    "\n",
    "list_y = [1,2,3,4,5]\n",
    "\n",
    "del list_y[4] # delete item at index 4 \n",
    "list_y.remove(2) # remove 1st occurance of value\n",
    "#list_y.remove(6) # error\n",
    "\n",
    "list_y.insert(1,2) #(index, vlaue)\n",
    "list_y.insert(20,10) # add to end of list if greater than len(list)\n",
    "list_y.insert(30,20)\n",
    "list_y.insert(25,30)\n",
    "\n",
    "list_y"
   ]
  },
  {
   "cell_type": "code",
   "execution_count": 77,
   "metadata": {
    "hidden": true
   },
   "outputs": [
    {
     "data": {
      "text/plain": [
       "0"
      ]
     },
     "execution_count": 77,
     "metadata": {},
     "output_type": "execute_result"
    }
   ],
   "source": [
    "# get the value of index specified\n",
    "list_y.index(1)"
   ]
  },
  {
   "cell_type": "code",
   "execution_count": 91,
   "metadata": {
    "hidden": true
   },
   "outputs": [
    {
     "name": "stdout",
     "output_type": "stream",
     "text": [
      "[1, 2, 3, 4, 5, 6]\n",
      "[4, 5, 6, 1, 2, 3]\n",
      "[4, 5, 6, 1, 2, 3]\n"
     ]
    }
   ],
   "source": [
    "# combining lists together \n",
    "\n",
    "xl = [1, 2, 3]\n",
    "yl = [4, 5, 6]\n",
    "\n",
    "# adding lists \n",
    "zl = xl + yl\n",
    "bl = yl + xl\n",
    "\n",
    "# concatenating lists \n",
    "yl.extend(xl)\n",
    "\n",
    "print(zl)\n",
    "print(yl)\n",
    "print(bl)"
   ]
  },
  {
   "cell_type": "markdown",
   "metadata": {
    "heading_collapsed": true
   },
   "source": [
    "### wait! (start)"
   ]
  },
  {
   "cell_type": "code",
   "execution_count": null,
   "metadata": {
    "hidden": true
   },
   "outputs": [],
   "source": []
  },
  {
   "cell_type": "code",
   "execution_count": null,
   "metadata": {
    "hidden": true
   },
   "outputs": [],
   "source": []
  },
  {
   "cell_type": "markdown",
   "metadata": {
    "heading_collapsed": true
   },
   "source": [
    "### wait! (end)"
   ]
  },
  {
   "cell_type": "code",
   "execution_count": null,
   "metadata": {
    "hidden": true
   },
   "outputs": [],
   "source": []
  },
  {
   "cell_type": "code",
   "execution_count": null,
   "metadata": {
    "hidden": true
   },
   "outputs": [],
   "source": []
  },
  {
   "cell_type": "markdown",
   "metadata": {
    "heading_collapsed": true
   },
   "source": [
    "### 🕹 tuples"
   ]
  },
  {
   "cell_type": "code",
   "execution_count": 104,
   "metadata": {
    "hidden": true
   },
   "outputs": [
    {
     "data": {
      "text/plain": [
       "(1, 2, 3)"
      ]
     },
     "execution_count": 104,
     "metadata": {},
     "output_type": "execute_result"
    }
   ],
   "source": [
    "# immutable\n",
    "tup = (1, 2, 3)\n",
    "tup"
   ]
  },
  {
   "cell_type": "code",
   "execution_count": 105,
   "metadata": {
    "hidden": true
   },
   "outputs": [
    {
     "data": {
      "text/plain": [
       "1"
      ]
     },
     "execution_count": 105,
     "metadata": {},
     "output_type": "execute_result"
    }
   ],
   "source": [
    "tup[0] # access value of index (like lists)"
   ]
  },
  {
   "cell_type": "code",
   "execution_count": 103,
   "metadata": {
    "hidden": true
   },
   "outputs": [
    {
     "name": "stdout",
     "output_type": "stream",
     "text": [
      "<class 'int'>\n",
      "<class 'tuple'>\n",
      "<class 'tuple'>\n"
     ]
    }
   ],
   "source": [
    "tup1 = (1)  # int\n",
    "tup2 = ()   # tuple\n",
    "tup3 = (1,) # tuple\n",
    "\n",
    "print(type(tup1))\n",
    "print(type(tup2))\n",
    "print(type(tup3))"
   ]
  },
  {
   "cell_type": "code",
   "execution_count": 112,
   "metadata": {
    "hidden": true
   },
   "outputs": [
    {
     "name": "stdout",
     "output_type": "stream",
     "text": [
      "1 2 3\n",
      "1 [2, 3, 4] 5\n",
      "1 2 3\n"
     ]
    }
   ],
   "source": [
    "# unpacking tuples (or lists)\n",
    "a, b, c = (1,2,3)\n",
    "print(a, b, c)\n",
    "\n",
    "# extended unpacking \n",
    "a, *b, c = (1, 2, 3, 4, 5)\n",
    "print(a, b, c)\n",
    "\n",
    "# typles are created by default  \n",
    "a, b, c = 1,2,3\n",
    "print(a, b, c)"
   ]
  },
  {
   "cell_type": "markdown",
   "metadata": {
    "heading_collapsed": true
   },
   "source": [
    "### 🕹 It's all about the dict, about the dict, about the dict 🎶"
   ]
  },
  {
   "cell_type": "markdown",
   "metadata": {
    "hidden": true
   },
   "source": [
    "#### 🥊 basic operations"
   ]
  },
  {
   "cell_type": "markdown",
   "metadata": {
    "hidden": true
   },
   "source": [
    "- keys needs to be immutable types to ensure that keys can be converted to a constant hash value for quick look-up"
   ]
  },
  {
   "cell_type": "code",
   "execution_count": null,
   "metadata": {
    "hidden": true
   },
   "outputs": [],
   "source": [
    "# ^ examples for the above:\n",
    "\n",
    "invalid_dict = {[1,2,3]: \"123\"} # list is mutable \n",
    "valid_dict = {(1,2,3):[1,2,3]}  # tuple is immutable"
   ]
  },
  {
   "cell_type": "code",
   "execution_count": 115,
   "metadata": {
    "hidden": true
   },
   "outputs": [
    {
     "data": {
      "text/plain": [
       "{'one': 1, 'two': 2, 'three': 3}"
      ]
     },
     "execution_count": 115,
     "metadata": {},
     "output_type": "execute_result"
    }
   ],
   "source": [
    "# creating a dict \n",
    "\n",
    "empty_dict = {}\n",
    "\n",
    "filled_dict = {\"one\": 1,\n",
    "              \"two\": 2,\n",
    "              \"three\": 3}\n",
    "\n",
    "filled_dict"
   ]
  },
  {
   "cell_type": "code",
   "execution_count": 123,
   "metadata": {
    "hidden": true
   },
   "outputs": [
    {
     "name": "stdout",
     "output_type": "stream",
     "text": [
      "{'one': 1, 'two': 2, 'three': 3}\n",
      "\n",
      "\n",
      "one 1\n",
      "two 2\n",
      "three 3\n",
      "\n",
      "\n",
      "dict_values([1, 2, 3])\n",
      "[1, 2, 3]\n",
      "\n",
      "\n",
      "dict_keys(['one', 'two', 'three'])\n",
      "['one', 'two', 'three']\n"
     ]
    }
   ],
   "source": [
    "# printing dict \n",
    "\n",
    "# print the whole object of dict\n",
    "print(filled_dict)\n",
    "print(\"\\n\")\n",
    "\n",
    "# printing keys & values of dict\n",
    "for key, value in filled_dict.items():\n",
    "    print(key, value)\n",
    "print(\"\\n\")\n",
    "\n",
    "# printing values of dict \n",
    "print(filled_dict.values())\n",
    "print(list(filled_dict.values()))\n",
    "print(\"\\n\")\n",
    "\n",
    "# printing keys of dict \n",
    "print(filled_dict.keys())\n",
    "print(list(filled_dict.keys()))"
   ]
  },
  {
   "cell_type": "code",
   "execution_count": 141,
   "metadata": {
    "hidden": true
   },
   "outputs": [
    {
     "name": "stdout",
     "output_type": "stream",
     "text": [
      "True\n",
      "False\n",
      "1\n",
      "1\n",
      "None\n",
      ":(\n",
      "4\n",
      "5\n",
      "5\n"
     ]
    }
   ],
   "source": [
    "# check for exsiting keys \n",
    "\n",
    "# in\n",
    "print(\"one\" in filled_dict)\n",
    "print(1 in filled_dict)\n",
    "\n",
    "# index\n",
    "print(filled_dict[\"one\"])\n",
    "#print(filled_dict[\"four\"]) # error DNE\n",
    "\n",
    "# get()\n",
    "print(filled_dict.get(\"one\"))\n",
    "print(filled_dict.get(\"four\"))\n",
    "print(filled_dict.get(\"four\", \":(\")) # a default value in case DNE\n",
    "print(filled_dict.get(\"four\", 4))\n",
    "\n",
    "# setdefault()\n",
    "print(filled_dict.setdefault(\"five\", 5)) # sets only if DNE\n",
    "print(filled_dict.setdefault(\"five\", 6)) # it already exist so no change"
   ]
  },
  {
   "cell_type": "code",
   "execution_count": 140,
   "metadata": {
    "hidden": true
   },
   "outputs": [
    {
     "data": {
      "text/plain": [
       "{'one': 1, 'two': 2, 'three': 3, 'five': 5}"
      ]
     },
     "execution_count": 140,
     "metadata": {},
     "output_type": "execute_result"
    }
   ],
   "source": [
    "filled_dict"
   ]
  },
  {
   "cell_type": "code",
   "execution_count": 149,
   "metadata": {
    "hidden": true
   },
   "outputs": [],
   "source": [
    "# adding/updating dict\n",
    "\n",
    "filled_dict.update({\"four\": 4})\n",
    "filled_dict[\"six\"] = 6"
   ]
  },
  {
   "cell_type": "code",
   "execution_count": 150,
   "metadata": {
    "hidden": true
   },
   "outputs": [
    {
     "data": {
      "text/plain": [
       "{'one': 1, 'two': 2, 'three': 3, 'five': 5, 'four': 4, 'six': 6}"
      ]
     },
     "execution_count": 150,
     "metadata": {},
     "output_type": "execute_result"
    }
   ],
   "source": [
    "filled_dict"
   ]
  },
  {
   "cell_type": "code",
   "execution_count": 151,
   "metadata": {
    "hidden": true
   },
   "outputs": [],
   "source": [
    "# deleting a key\n",
    "\n",
    "del filled_dict[\"six\"]\n",
    "# if key DNE > ERROR"
   ]
  },
  {
   "cell_type": "code",
   "execution_count": 152,
   "metadata": {
    "hidden": true
   },
   "outputs": [
    {
     "data": {
      "text/plain": [
       "{'one': 1, 'two': 2, 'three': 3, 'five': 5, 'four': 4}"
      ]
     },
     "execution_count": 152,
     "metadata": {},
     "output_type": "execute_result"
    }
   ],
   "source": [
    "filled_dict"
   ]
  },
  {
   "cell_type": "markdown",
   "metadata": {
    "hidden": true
   },
   "source": [
    "#### 🥊 reading a list into a dict / creating a dict from list "
   ]
  },
  {
   "cell_type": "code",
   "execution_count": null,
   "metadata": {
    "hidden": true
   },
   "outputs": [],
   "source": []
  },
  {
   "cell_type": "code",
   "execution_count": null,
   "metadata": {
    "hidden": true
   },
   "outputs": [],
   "source": []
  },
  {
   "cell_type": "markdown",
   "metadata": {
    "heading_collapsed": true
   },
   "source": [
    "### 🕹 Sets 💥"
   ]
  },
  {
   "cell_type": "code",
   "execution_count": 154,
   "metadata": {
    "hidden": true
   },
   "outputs": [
    {
     "data": {
      "text/plain": [
       "set()"
      ]
     },
     "execution_count": 154,
     "metadata": {},
     "output_type": "execute_result"
    }
   ],
   "source": [
    "# creating a set\n",
    "empty_set = set()\n",
    "\n",
    "empty_set"
   ]
  },
  {
   "cell_type": "code",
   "execution_count": 179,
   "metadata": {
    "hidden": true
   },
   "outputs": [
    {
     "data": {
      "text/plain": [
       "{1, 2, 3}"
      ]
     },
     "execution_count": 179,
     "metadata": {},
     "output_type": "execute_result"
    }
   ],
   "source": [
    "some_set = {1,1,1,1,1,2,2,2,2,3,3}\n",
    "some_set"
   ]
  },
  {
   "cell_type": "code",
   "execution_count": 156,
   "metadata": {
    "hidden": true
   },
   "outputs": [
    {
     "name": "stdout",
     "output_type": "stream",
     "text": [
      "أحلى عليكي يا سيت!\n"
     ]
    }
   ],
   "source": [
    "print(\"أحلى عليكي يا سيت!\")"
   ]
  },
  {
   "cell_type": "code",
   "execution_count": null,
   "metadata": {
    "hidden": true
   },
   "outputs": [],
   "source": [
    "# elemnts are immutable\n",
    "\n",
    "invalid_set = {[1], 1}\n",
    "valid_set = {(1,), 1}"
   ]
  },
  {
   "cell_type": "code",
   "execution_count": 180,
   "metadata": {
    "hidden": true
   },
   "outputs": [
    {
     "data": {
      "text/plain": [
       "{1, 2, 3}"
      ]
     },
     "execution_count": 180,
     "metadata": {},
     "output_type": "execute_result"
    }
   ],
   "source": [
    "# copy a set\n",
    "filled_set = some_set\n",
    "filled_set"
   ]
  },
  {
   "cell_type": "code",
   "execution_count": 181,
   "metadata": {
    "hidden": true
   },
   "outputs": [
    {
     "data": {
      "text/plain": [
       "True"
      ]
     },
     "execution_count": 181,
     "metadata": {},
     "output_type": "execute_result"
    }
   ],
   "source": [
    "filled_set is some_set"
   ]
  },
  {
   "cell_type": "code",
   "execution_count": 187,
   "metadata": {
    "hidden": true
   },
   "outputs": [
    {
     "data": {
      "text/plain": [
       "{1, 2, 3}"
      ]
     },
     "execution_count": 187,
     "metadata": {},
     "output_type": "execute_result"
    }
   ],
   "source": [
    "# make a deep copy\n",
    "\n",
    "filled_set_deep = some_set.copy()\n",
    "filled_set_deep"
   ]
  },
  {
   "cell_type": "code",
   "execution_count": 188,
   "metadata": {
    "hidden": true
   },
   "outputs": [
    {
     "data": {
      "text/plain": [
       "False"
      ]
     },
     "execution_count": 188,
     "metadata": {},
     "output_type": "execute_result"
    }
   ],
   "source": [
    "filled_set_deep is some_set"
   ]
  },
  {
   "cell_type": "code",
   "execution_count": 164,
   "metadata": {
    "hidden": true
   },
   "outputs": [
    {
     "data": {
      "text/plain": [
       "{1, 2, 3, 5}"
      ]
     },
     "execution_count": 164,
     "metadata": {},
     "output_type": "execute_result"
    }
   ],
   "source": [
    "# add to a set \n",
    "filled_set.add(5)\n",
    "filled_set"
   ]
  },
  {
   "cell_type": "code",
   "execution_count": 168,
   "metadata": {
    "hidden": true
   },
   "outputs": [
    {
     "data": {
      "text/plain": [
       "{3, 5}"
      ]
     },
     "execution_count": 168,
     "metadata": {},
     "output_type": "execute_result"
    }
   ],
   "source": [
    "# intersection (&)\n",
    "\n",
    "other_set = {3,4,5,6}\n",
    "\n",
    "filled_set & other_set"
   ]
  },
  {
   "cell_type": "code",
   "execution_count": 170,
   "metadata": {
    "hidden": true
   },
   "outputs": [
    {
     "data": {
      "text/plain": [
       "{1, 2, 3, 5}"
      ]
     },
     "execution_count": 170,
     "metadata": {},
     "output_type": "execute_result"
    }
   ],
   "source": [
    "filled_set"
   ]
  },
  {
   "cell_type": "code",
   "execution_count": 171,
   "metadata": {
    "hidden": true
   },
   "outputs": [
    {
     "data": {
      "text/plain": [
       "{3, 4, 5, 6}"
      ]
     },
     "execution_count": 171,
     "metadata": {},
     "output_type": "execute_result"
    }
   ],
   "source": [
    "other_set"
   ]
  },
  {
   "cell_type": "code",
   "execution_count": 167,
   "metadata": {
    "hidden": true
   },
   "outputs": [
    {
     "data": {
      "text/plain": [
       "{1, 2}"
      ]
     },
     "execution_count": 167,
     "metadata": {},
     "output_type": "execute_result"
    }
   ],
   "source": [
    "# diffrence -- order matters! (-)\n",
    "\n",
    "filled_set - other_set"
   ]
  },
  {
   "cell_type": "code",
   "execution_count": 172,
   "metadata": {
    "hidden": true
   },
   "outputs": [
    {
     "data": {
      "text/plain": [
       "{4, 6}"
      ]
     },
     "execution_count": 172,
     "metadata": {},
     "output_type": "execute_result"
    }
   ],
   "source": [
    "# diffrence -- order matters! (-)\n",
    "\n",
    "other_set - filled_set"
   ]
  },
  {
   "cell_type": "code",
   "execution_count": 173,
   "metadata": {
    "hidden": true
   },
   "outputs": [
    {
     "data": {
      "text/plain": [
       "{1, 2, 4, 6}"
      ]
     },
     "execution_count": 173,
     "metadata": {},
     "output_type": "execute_result"
    }
   ],
   "source": [
    "# symmetric diffrence (^)\n",
    "\n",
    "filled_set ^ other_set"
   ]
  },
  {
   "cell_type": "code",
   "execution_count": 175,
   "metadata": {
    "hidden": true
   },
   "outputs": [
    {
     "name": "stdout",
     "output_type": "stream",
     "text": [
      "False True\n"
     ]
    }
   ],
   "source": [
    "# check if set on left is superset of right \n",
    "check1 = {1,2} >= {1,2,3}\n",
    "\n",
    "# check if set on left is supset of right \n",
    "check2 = {1,2} <= {1,2,3}\n",
    "\n",
    "print(check1, check2)"
   ]
  },
  {
   "cell_type": "markdown",
   "metadata": {},
   "source": [
    "### 🕹 Control flow & Iterables ⚙️"
   ]
  },
  {
   "cell_type": "code",
   "execution_count": null,
   "metadata": {},
   "outputs": [],
   "source": []
  },
  {
   "cell_type": "markdown",
   "metadata": {
    "heading_collapsed": true
   },
   "source": [
    "### 🕹 Helpful built-in functions"
   ]
  },
  {
   "cell_type": "markdown",
   "metadata": {
    "hidden": true
   },
   "source": [
    "- len( )"
   ]
  }
 ],
 "metadata": {
  "kernelspec": {
   "display_name": "Python 3",
   "language": "python",
   "name": "python3"
  },
  "language_info": {
   "codemirror_mode": {
    "name": "ipython",
    "version": 3
   },
   "file_extension": ".py",
   "mimetype": "text/x-python",
   "name": "python",
   "nbconvert_exporter": "python",
   "pygments_lexer": "ipython3",
   "version": "3.6.8"
  },
  "varInspector": {
   "cols": {
    "lenName": 16,
    "lenType": 16,
    "lenVar": 40
   },
   "kernels_config": {
    "python": {
     "delete_cmd_postfix": "",
     "delete_cmd_prefix": "del ",
     "library": "var_list.py",
     "varRefreshCmd": "print(var_dic_list())"
    },
    "r": {
     "delete_cmd_postfix": ") ",
     "delete_cmd_prefix": "rm(",
     "library": "var_list.r",
     "varRefreshCmd": "cat(var_dic_list()) "
    }
   },
   "types_to_exclude": [
    "module",
    "function",
    "builtin_function_or_method",
    "instance",
    "_Feature"
   ],
   "window_display": false
  }
 },
 "nbformat": 4,
 "nbformat_minor": 2
}
